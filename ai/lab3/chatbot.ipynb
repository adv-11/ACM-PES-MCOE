{
  "nbformat": 4,
  "nbformat_minor": 0,
  "metadata": {
    "colab": {
      "provenance": [],
      "authorship_tag": "ABX9TyNCX1BcXL7oCP+un7dqQWew"
    },
    "kernelspec": {
      "name": "python3",
      "display_name": "Python 3"
    },
    "language_info": {
      "name": "python"
    }
  },
  "cells": [
    {
      "cell_type": "code",
      "execution_count": null,
      "metadata": {
        "id": "PepyYTNxZJ0s"
      },
      "outputs": [],
      "source": [
        "#implemeneted using krushkals\n"
      ]
    },
    {
      "cell_type": "code",
      "source": [
        "\n",
        "import random\n",
        "\n",
        "def greet():\n",
        "    greetings = [\"Hi there!Welcome to Shopizo!\", \"Hello!Welcome to Shopizo!\", \"Hey!Welcome to Shopizo!\"]\n",
        "    return random.choice(greetings)\n",
        "\n",
        "def ask_name():\n",
        "    return input(\"What's your name? \")\n",
        "\n",
        "def chat():\n",
        "    print(greet())\n",
        "    name = ask_name()\n",
        "    print(\"Nice to meet you, \" + name + \"! How can I help you?\")\n",
        "    while True:\n",
        "        user_input = input(\"You: \")\n",
        "        if user_input.lower() == 'exit':\n",
        "            print(\"Shopizo: Goodbye!\")\n",
        "            break\n",
        "        else:\n",
        "            response = generate_response(user_input)\n",
        "            print(\"Shopizo:\", response)\n",
        "\n",
        "def generate_response(user_input):\n",
        "    responses = {\n",
        "        \"i want to track my order\": \"ok!Can you tell me order number?\",\n",
        "        \"i want to update my contact number\": \"Sure!Enter your new contact number\",\n",
        "        \"i want to have a call with your authority\": \"OK.You will receive a call soon!\",\n",
        "        \"when Will I receive my order\": \"Tell me your Order number\",\n",
        "        \"i want to update my adress\": \"Sure sir,tell us your new address.\",\n",
        "        \"what is the procedure for exchanging order\": \"Go to my orders,go to your recent order for exchange,select the option for exhange\",\n",
        "        \"what is the processs for return?\": \"Go to my orders,go to your recent order for exchange,select the option for return\",\n",
        "        \"my money after return hasn't deposited yet,please  let me know\": \"Can I know your account number?\",\n",
        "        \"in how many days is product generally delivered\": \"Generally in less than 4-5 days\",\n",
        "        \"will I get exchange in case of damaged products\": \"Which products can be exchanged is specified at the begining of product.So you will get an exchange at only those products. \",\n",
        "        \"thank you\": \"You're welcome!\",\n",
        "        \"bye\": \"Goodbye!\",\n",
        "        \"exit\": \"Goodbye!\",\n",
        "\n",
        "    }\n",
        "    response = responses.get(user_input.lower(), \"I'm sorry, I didn't understand that.\")\n",
        "    return response\n",
        "\n",
        "chat()\n",
        "\n",
        "\n"
      ],
      "metadata": {
        "colab": {
          "base_uri": "https://localhost:8080/"
        },
        "id": "GjdpxupeZaNy",
        "outputId": "d1a9623a-a757-4144-805f-f353976b91f8"
      },
      "execution_count": null,
      "outputs": [
        {
          "output_type": "stream",
          "name": "stdout",
          "text": [
            "Hi there!Welcome to Shopizo!\n"
          ]
        }
      ]
    }
  ]
}